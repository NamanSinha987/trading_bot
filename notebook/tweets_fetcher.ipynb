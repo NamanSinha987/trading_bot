{
 "cells": [
  {
   "cell_type": "code",
   "execution_count": 1,
   "id": "748416ed",
   "metadata": {},
   "outputs": [],
   "source": [
    "import pandas as pd\n",
    "import numpy as np\n",
    "import matplotlib.pyplot as plt\n",
    "import seaborn as sns\n",
    "import tweepy ## package to fetch tweets\n",
    "import json"
   ]
  },
  {
   "cell_type": "code",
   "execution_count": 2,
   "id": "6afe43b9",
   "metadata": {},
   "outputs": [],
   "source": [
    "def connect_to_streaming_api(consumer_key, consumer_secret, access_token, access_token_secret, callback):\n",
    "    # Create OAuthHandler instance\n",
    "    auth = tweepy.OAuthHandler(consumer_key, consumer_secret)\n",
    "    auth.set_access_token(access_token, access_token_secret)\n",
    "\n",
    "    # Create Stream instance\n",
    "    stream = tweepy.Stream(auth, access_token,access_token_secret,callback)\n",
    "\n",
    "    # Return stream object\n",
    "    return stream"
   ]
  },
  {
   "cell_type": "code",
   "execution_count": 3,
   "id": "270adac8",
   "metadata": {},
   "outputs": [],
   "source": [
    "with open('api_details.json') as f:\n",
    "    api_details = json.load(f)\n",
    "\n",
    "consumer_key = api_details['consumer_key']\n",
    "consumer_secret = api_details['consumer_secret']\n",
    "access_token = api_details['access_token']\n",
    "access_token_secret = api_details['access_token_secret']\n"
   ]
  },
  {
   "cell_type": "code",
   "execution_count": 4,
   "id": "fcae041a",
   "metadata": {},
   "outputs": [],
   "source": [
    "def print_text(text):\n",
    "    print(text)"
   ]
  },
  {
   "cell_type": "code",
   "execution_count": null,
   "id": "55bf22b1",
   "metadata": {},
   "outputs": [],
   "source": []
  },
  {
   "cell_type": "code",
   "execution_count": 5,
   "id": "b85e0612",
   "metadata": {},
   "outputs": [
    {
     "name": "stdout",
     "output_type": "stream",
     "text": [
      "connection_made\n"
     ]
    }
   ],
   "source": [
    "stream=connect_to_streaming_api(consumer_key, consumer_secret, access_token,access_token_secret,print_text('connection_made'))"
   ]
  },
  {
   "cell_type": "code",
   "execution_count": null,
   "id": "79f3b832",
   "metadata": {},
   "outputs": [],
   "source": []
  },
  {
   "cell_type": "code",
   "execution_count": null,
   "id": "2e24b248",
   "metadata": {},
   "outputs": [],
   "source": []
  },
  {
   "cell_type": "code",
   "execution_count": null,
   "id": "82bb26eb",
   "metadata": {},
   "outputs": [
    {
     "name": "stderr",
     "output_type": "stream",
     "text": [
      "Stream encountered HTTP error: 403\n",
      "Stream encountered HTTP error: 403\n",
      "Stream encountered HTTP error: 403\n",
      "Stream encountered HTTP error: 403\n",
      "Stream encountered HTTP error: 403\n",
      "Stream encountered HTTP error: 403\n",
      "Stream encountered HTTP error: 403\n",
      "Stream encountered HTTP error: 403\n",
      "Stream encountered HTTP error: 403\n",
      "Stream encountered HTTP error: 403\n",
      "Stream encountered HTTP error: 403\n",
      "Stream encountered HTTP error: 403\n",
      "Stream encountered HTTP error: 403\n",
      "Stream encountered HTTP error: 403\n",
      "Stream encountered HTTP error: 403\n"
     ]
    }
   ],
   "source": [
    "import tweepy\n",
    "\n",
    "with open('api_details.json') as f:\n",
    "    api_details = json.load(f)\n",
    "\n",
    "consumer_key = api_details['consumer_key']\n",
    "consumer_secret = api_details['consumer_secret']\n",
    "access_token = api_details['access_token']\n",
    "access_token_secret = api_details['access_token_secret']\n",
    "\n",
    "\n",
    "keywords = [\"python\", \"tweepy\"]\n",
    "\n",
    "# Create a subclass of Stream to handle incoming tweets\n",
    "class MyStream(tweepy.Stream):\n",
    "    def __init__(self, consumer_key, consumer_secret, access_token, access_token_secret, *args, **kwargs):\n",
    "        super().__init__(consumer_key, consumer_secret, access_token, access_token_secret, *args, **kwargs)\n",
    "\n",
    "    def on_status(self, status):\n",
    "        print(f\"{status.user.name} (@{status.user.screen_name}) tweeted: {status.text}\")\n",
    "\n",
    "# Authenticate with the Twitter API\n",
    "auth = tweepy.OAuthHandler(consumer_key, consumer_secret)\n",
    "auth.set_access_token(access_token, access_token_secret)\n",
    "\n",
    "# Create a Stream object using the authenticated API\n",
    "myStream = MyStream(consumer_key, consumer_secret, access_token, access_token_secret)\n",
    "\n",
    "# Start streaming tweets containing the specified keywords\n",
    "myStream.filter(track=keywords)"
   ]
  },
  {
   "cell_type": "code",
   "execution_count": null,
   "id": "74734de2",
   "metadata": {},
   "outputs": [],
   "source": []
  }
 ],
 "metadata": {
  "kernelspec": {
   "display_name": "Python 3 (ipykernel)",
   "language": "python",
   "name": "python3"
  },
  "language_info": {
   "codemirror_mode": {
    "name": "ipython",
    "version": 3
   },
   "file_extension": ".py",
   "mimetype": "text/x-python",
   "name": "python",
   "nbconvert_exporter": "python",
   "pygments_lexer": "ipython3",
   "version": "3.9.7"
  }
 },
 "nbformat": 4,
 "nbformat_minor": 5
}
